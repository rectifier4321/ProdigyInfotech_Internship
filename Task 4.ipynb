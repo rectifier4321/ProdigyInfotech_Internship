{
 "cells": [
  {
   "cell_type": "code",
   "execution_count": 5,
   "id": "8c88915e",
   "metadata": {},
   "outputs": [
    {
     "name": "stderr",
     "output_type": "stream",
     "text": [
      "[nltk_data] Downloading package vader_lexicon to\n",
      "[nltk_data]     C:\\Users\\dell\\AppData\\Roaming\\nltk_data...\n",
      "[nltk_data]   Package vader_lexicon is already up-to-date!\n"
     ]
    },
    {
     "name": "stdout",
     "output_type": "stream",
     "text": [
      "   Sno.    Company        Type  \\\n",
      "0  3364   Facebook  Irrelevant   \n",
      "1   352     Amazon     Neutral   \n",
      "2  8312  Microsoft    Negative   \n",
      "3  4371      CS-GO    Negative   \n",
      "4  4433     Google     Neutral   \n",
      "\n",
      "                                             Content  \n",
      "0  I mentioned on Facebook that I was struggling ...  \n",
      "1  BBC News - Amazon boss Jeff Bezos rejects clai...  \n",
      "2  @Microsoft Why do I pay for WORD when it funct...  \n",
      "3  CSGO matchmaking is so full of closet hacking,...  \n",
      "4  Now the President is slapping Americans in the...  \n",
      "Index(['Sno.', 'Company', 'Type', 'Content'], dtype='object')\n",
      "   Sno.    Company        Type  \\\n",
      "0  3364   Facebook  Irrelevant   \n",
      "1   352     Amazon     Neutral   \n",
      "2  8312  Microsoft    Negative   \n",
      "3  4371      CS-GO    Negative   \n",
      "4  4433     Google     Neutral   \n",
      "\n",
      "                                             Content  \\\n",
      "0  I mentioned on Facebook that I was struggling ...   \n",
      "1  BBC News - Amazon boss Jeff Bezos rejects clai...   \n",
      "2  @Microsoft Why do I pay for WORD when it funct...   \n",
      "3  CSGO matchmaking is so full of closet hacking,...   \n",
      "4  Now the President is slapping Americans in the...   \n",
      "\n",
      "                                    sentiment_scores  compound sentiment  \n",
      "0  {'neg': 0.162, 'neu': 0.713, 'pos': 0.125, 'co...   -0.2263  negative  \n",
      "1  {'neg': 0.174, 'neu': 0.598, 'pos': 0.228, 'co...   -0.0000   neutral  \n",
      "2  {'neg': 0.091, 'neu': 0.909, 'pos': 0.0, 'comp...   -0.1027  negative  \n",
      "3  {'neg': 0.189, 'neu': 0.629, 'pos': 0.182, 'co...   -0.0258  negative  \n",
      "4  {'neg': 0.0, 'neu': 0.897, 'pos': 0.103, 'comp...    0.4157  positive  \n"
     ]
    },
    {
     "data": {
      "image/png": "[encoded data removed]",
      "text/plain": [
       "<Figure size 1000x600 with 1 Axes>"
      ]
     },
     "metadata": {},
     "output_type": "display_data"
    }
   ],
   "source": [
    "import pandas as pd\n",
    "import nltk\n",
    "from nltk.sentiment.vader import SentimentIntensityAnalyzer\n",
    "import matplotlib.pyplot as plt\n",
    "import seaborn as sns\n",
    "\n",
    "# Download VADER lexicon for sentiment analysis\n",
    "nltk.download('vader_lexicon')\n",
    "\n",
    "# Load dataset (adapt this path to your local environment)\n",
    "data = pd.read_csv(r\"D:\\Desktop\\Important Docs\\MyCertificates\\Prodigy Infotech\\Task4\\twitter_validation.csv\")\n",
    "\n",
    "# Display the first few rows and the columns of the dataset to understand its structure\n",
    "print(data.head())\n",
    "print(data.columns)\n",
    "\n",
    "# Assuming the text column might have a different name, e.g., 'content', 'review', 'tweet', etc.\n",
    "# For this example, we'll use 'content'. Replace 'content' with the correct column name.\n",
    "text_column = 'Content'  # Change this to the actual text column name in your dataset\n",
    "\n",
    "# Check if the text column exists\n",
    "if text_column not in data.columns:\n",
    "    raise KeyError(f\"Column '{text_column}' not found in the dataset. Available columns: {list(data.columns)}\")\n",
    "\n",
    "# Initialize the VADER sentiment intensity analyzer\n",
    "sid = SentimentIntensityAnalyzer()\n",
    "\n",
    "# Function to get sentiment scores\n",
    "def get_sentiment_score(text):\n",
    "    return sid.polarity_scores(text)\n",
    "\n",
    "# Apply the function to the text data\n",
    "data['sentiment_scores'] = data[text_column].apply(get_sentiment_score)\n",
    "\n",
    "# Extract compound sentiment scores\n",
    "data['compound'] = data['sentiment_scores'].apply(lambda score_dict: score_dict['compound'])\n",
    "\n",
    "# Classify sentiment based on compound score\n",
    "data['sentiment'] = data['compound'].apply(lambda c: 'positive' if c > 0 else ('negative' if c < 0 else 'neutral'))\n",
    "\n",
    "# Display the first few rows of the modified dataset\n",
    "print(data.head())\n",
    "\n",
    "# Plotting sentiment distribution\n",
    "plt.figure(figsize=(10, 6))\n",
    "sns.countplot(x='sentiment', data=data)\n",
    "plt.title('Sentiment Distribution')\n",
    "plt.xlabel('Sentiment')\n",
    "plt.ylabel('Count')\n",
    "plt.show()\n",
    "\n",
    "# Analyzing sentiment over time (assuming there is a 'date' column in the dataset)\n",
    "if 'date' in data.columns:\n",
    "    data['date'] = pd.to_datetime(data['date'])\n",
    "    sentiment_over_time = data.groupby([data['date'].dt.date, 'sentiment']).size().unstack().fillna(0)\n",
    "\n",
    "    plt.figure(figsize=(4, 4))\n",
    "    sentiment_over_time.plot()\n",
    "    plt.title('Sentiment Over Time')\n",
    "    plt.xlabel('Date')\n",
    "    plt.ylabel('Count')\n",
    "    plt.show()\n",
    "\n",
    "# Sentiment by entity (assuming there is an 'entity' column in the dataset)\n",
    "if 'entity' in data.columns:\n",
    "    plt.figure(figsize=(4, 4))\n",
    "    sns.countplot(x='entity', hue='sentiment', data=data)\n",
    "    plt.title('Sentiment by Entity')\n",
    "    plt.xlabel('Entity')\n",
    "    plt.ylabel('Count')\n",
    "    plt.xticks(rotation=45)\n",
    "    plt.legend(title='Sentiment')\n",
    "    plt.show()\n"
   ]
  },
  {
   "cell_type": "code",
   "execution_count": null,
   "id": "1f646fa4",
   "metadata": {},
   "outputs": [],
   "source": []
  }
 ],
 "metadata": {
  "kernelspec": {
   "display_name": "Python 3 (ipykernel)",
   "language": "python",
   "name": "python3"
  },
  "language_info": {
   "codemirror_mode": {
    "name": "ipython",
    "version": 3
   },
   "file_extension": ".py",
   "mimetype": "text/x-python",
   "name": "python",
   "nbconvert_exporter": "python",
   "pygments_lexer": "ipython3",
   "version": "3.11.4"
  }
 },
 "nbformat": 4,
 "nbformat_minor": 5
}
